{
 "cells": [
  {
   "cell_type": "markdown",
   "id": "a39654fd-d137-44b6-8752-6703c940d22b",
   "metadata": {},
   "source": [
    "## init\n",
    "\n",
    "we'll start with\n",
    "- the 6 foundations (bases)\n",
    "- the 11 piles\n",
    "- the one free cell"
   ]
  },
  {
   "cell_type": "code",
   "execution_count": 21,
   "id": "8ed3069d-9fae-42e5-8c56-3c75c0fe4899",
   "metadata": {},
   "outputs": [],
   "source": [
    "head = -1\n",
    "tail = 22\n",
    "cup = 0\n",
    "wand = 0\n",
    "sword = 0\n",
    "pent = 0\n",
    "\n",
    "piles = []\n",
    "cell = None"
   ]
  },
  {
   "cell_type": "markdown",
   "id": "ec33164a-5c45-4fa2-83b5-94c393897b94",
   "metadata": {},
   "source": [
    "now we'll define\n",
    "- the card class\n",
    "- some helper functions"
   ]
  },
  {
   "cell_type": "code",
   "execution_count": 22,
   "id": "30aee21c-40eb-4476-bbbd-910566625a10",
   "metadata": {},
   "outputs": [
    {
     "name": "stdout",
     "output_type": "stream",
     "text": [
      "[(t,0), (t,1), (t,2), (t,3), (t,4), (t,5), (t,6), (t,7), (t,8), (t,9), (t,10), (t,11), (t,12), (t,13), (t,14), (t,15), (t,16), (t,17), (t,18), (t,19), (t,20), (t,21), (c,1), (c,2), (c,3), (c,4), (c,5), (c,6), (c,7), (c,8), (c,9), (c,10), (c,11), (c,12), (c,13), (w,1), (w,2), (w,3), (w,4), (w,5), (w,6), (w,7), (w,8), (w,9), (w,10), (w,11), (w,12), (w,13), (s,1), (s,2), (s,3), (s,4), (s,5), (s,6), (s,7), (s,8), (s,9), (s,10), (s,11), (s,12), (s,13), (p,1), (p,2), (p,3), (p,4), (p,5), (p,6), (p,7), (p,8), (p,9), (p,10), (p,11), (p,12), (p,13)]\n"
     ]
    }
   ],
   "source": [
    "class Card():\n",
    "    def __init__(self, suite, rank):\n",
    "        self.suite = suite\n",
    "        self.rank = rank\n",
    "        \n",
    "    def __repr__(self):\n",
    "        return \"({0},{1})\".format(self.suite, self.rank)\n",
    "        \n",
    "def hash_state():\n",
    "    state = \",\".join([\"{\" + str(x) + \"}\" for x in range(8)]).format(piles, cell, head, tail, cup, wand, sword, pent)\n",
    "    print(state)\n",
    "    return hash(state)\n",
    "\n",
    "def make_deck():\n",
    "    deck = []\n",
    "    # major\n",
    "    for rank in range(22):\n",
    "        deck.append(Card(\"t\", rank))\n",
    "    # minor\n",
    "    for suite in [\"c\", \"w\", \"s\", \"p\"]:\n",
    "        for rank in range(1,14):\n",
    "            deck.append(Card(suite, rank))\n",
    "    return deck\n",
    "\n",
    "DECK = make_deck()\n",
    "print(DECK)"
   ]
  },
  {
   "cell_type": "code",
   "execution_count": 7,
   "id": "6050ccee-f067-40f5-a3da-5bcf5a164377",
   "metadata": {},
   "outputs": [],
   "source": [
    "visited_states = set()\n"
   ]
  },
  {
   "cell_type": "markdown",
   "id": "f811c039-d81a-4065-ba1a-c13182cad894",
   "metadata": {},
   "source": [
    "## search"
   ]
  }
 ],
 "metadata": {
  "kernelspec": {
   "display_name": "Python 3 (ipykernel)",
   "language": "python",
   "name": "python3"
  },
  "language_info": {
   "codemirror_mode": {
    "name": "ipython",
    "version": 3
   },
   "file_extension": ".py",
   "mimetype": "text/x-python",
   "name": "python",
   "nbconvert_exporter": "python",
   "pygments_lexer": "ipython3",
   "version": "3.10.8"
  }
 },
 "nbformat": 4,
 "nbformat_minor": 5
}
